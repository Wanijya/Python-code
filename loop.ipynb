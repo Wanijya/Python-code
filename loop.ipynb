{
 "cells": [
  {
   "cell_type": "markdown",
   "metadata": {},
   "source": [
    "Question 1: List Elements"
   ]
  },
  {
   "cell_type": "code",
   "execution_count": 6,
   "metadata": {},
   "outputs": [
    {
     "name": "stdout",
     "output_type": "stream",
     "text": [
      "Sum is: 49\n"
     ]
    }
   ],
   "source": [
    "# Ek list mein kuch numbers hain. In numbers ka sum nikalein.\n",
    "\n",
    "number = [1, 3, 5, 7, 9, 11, 13,]\n",
    "sum_of_number = 0\n",
    "for num in number:\n",
    "    sum_of_number += num\n",
    "print(\"Sum is:\", sum_of_number)"
   ]
  },
  {
   "cell_type": "markdown",
   "metadata": {},
   "source": [
    "Question 2: Multiplication Table"
   ]
  },
  {
   "cell_type": "code",
   "execution_count": 9,
   "metadata": {},
   "outputs": [
    {
     "name": "stdout",
     "output_type": "stream",
     "text": [
      "7 x 1 = 7\n",
      "7 x 2 = 14\n",
      "7 x 3 = 21\n",
      "7 x 4 = 28\n",
      "7 x 5 = 35\n",
      "7 x 6 = 42\n",
      "7 x 7 = 49\n",
      "7 x 8 = 56\n",
      "7 x 9 = 63\n",
      "7 x 10 = 70\n"
     ]
    }
   ],
   "source": [
    "# Kisi bhi number ka multiplication table 1 se 10 tak print karein.\n",
    "num = 7\n",
    "for i in range(1,11):\n",
    "    # print(num, \"*\", i, \"=\", num*i)\n",
    "    result = num*i\n",
    "    print(f\"{num} x {i} = {result}\")"
   ]
  },
  {
   "cell_type": "markdown",
   "metadata": {},
   "source": [
    "Question 3: Vowel Counter"
   ]
  },
  {
   "cell_type": "code",
   "execution_count": 12,
   "metadata": {},
   "outputs": [
    {
     "name": "stdout",
     "output_type": "stream",
     "text": [
      "Numbers of Vowels: 4\n"
     ]
    }
   ],
   "source": [
    "# Ek string mein kitne vowels (a, e, i, o, u) hain, yeh count karein.\n",
    "text = \"Python is amazing\"\n",
    "vowel_count = 0\n",
    "for char in text:\n",
    "    if char.lower() in \"aeiou\":\n",
    "        vowel_count += 1\n",
    "print(\"Numbers of Vowels:\", vowel_count)"
   ]
  },
  {
   "cell_type": "markdown",
   "metadata": {},
   "source": [
    "Question 4: Pattern Printing"
   ]
  },
  {
   "cell_type": "code",
   "execution_count": 18,
   "metadata": {},
   "outputs": [
    {
     "name": "stdout",
     "output_type": "stream",
     "text": [
      "*\n",
      "**\n",
      "***\n",
      "****\n",
      "*****\n"
     ]
    }
   ],
   "source": [
    "# Star pattern print karein:\n",
    "for i in range(1, 6):\n",
    "    print(\"*\" * i)"
   ]
  },
  {
   "cell_type": "markdown",
   "metadata": {},
   "source": [
    "Question 5: Reverse List"
   ]
  },
  {
   "cell_type": "code",
   "execution_count": 21,
   "metadata": {},
   "outputs": [
    {
     "name": "stdout",
     "output_type": "stream",
     "text": [
      "Reversed List: [5, 4, 3, 2, 1]\n"
     ]
    }
   ],
   "source": [
    "# Ek list ko reverse karein (pichhe se aage).\n",
    "\n",
    "original_list = [1, 2, 3, 4, 5]\n",
    "reversed_list = []\n",
    "for i in reversed(original_list):\n",
    "    reversed_list.append(i)\n",
    "print(\"Reversed List:\", reversed_list)"
   ]
  }
 ],
 "metadata": {
  "kernelspec": {
   "display_name": "Python 3",
   "language": "python",
   "name": "python3"
  },
  "language_info": {
   "codemirror_mode": {
    "name": "ipython",
    "version": 3
   },
   "file_extension": ".py",
   "mimetype": "text/x-python",
   "name": "python",
   "nbconvert_exporter": "python",
   "pygments_lexer": "ipython3",
   "version": "3.10.5"
  }
 },
 "nbformat": 4,
 "nbformat_minor": 2
}
