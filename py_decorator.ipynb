{
 "cells": [
  {
   "cell_type": "markdown",
   "metadata": {},
   "source": [
    "#### Very Basic\n",
    "- Create a decorator to print \"Function called\" before calling any function."
   ]
  },
  {
   "cell_type": "code",
   "execution_count": null,
   "metadata": {},
   "outputs": [
    {
     "name": "stdout",
     "output_type": "stream",
     "text": [
      "Function called\n",
      "Hello!\n"
     ]
    }
   ],
   "source": [
    "def decorator(func):\n",
    "    def wrapper():\n",
    "        print(\"Function called\")\n",
    "        return func()\n",
    "    return wrapper\n",
    "@decorator\n",
    "def greet():\n",
    "    print(\"Hello!\")\n",
    "greet()"
   ]
  },
  {
   "cell_type": "markdown",
   "metadata": {},
   "source": [
    "- Write a decorator to add 10 to the result of a function returning a number."
   ]
  },
  {
   "cell_type": "code",
   "execution_count": 3,
   "metadata": {},
   "outputs": [
    {
     "name": "stdout",
     "output_type": "stream",
     "text": [
      "15\n"
     ]
    }
   ],
   "source": [
    "def decorator(func):\n",
    "    def wrapper():\n",
    "        return func() + 10\n",
    "    return wrapper\n",
    "\n",
    "@decorator\n",
    "def number():\n",
    "    return 5\n",
    "print(number())"
   ]
  },
  {
   "cell_type": "markdown",
   "metadata": {},
   "source": [
    "- Write a decorator to convert the output of a function to uppercase."
   ]
  },
  {
   "cell_type": "code",
   "execution_count": 4,
   "metadata": {},
   "outputs": [
    {
     "name": "stdout",
     "output_type": "stream",
     "text": [
      "HELLO\n"
     ]
    }
   ],
   "source": [
    "def decorator(func):\n",
    "    def wrapper():\n",
    "        return func().upper()\n",
    "    return wrapper\n",
    "\n",
    "@decorator\n",
    "def get_word():\n",
    "    return \"hello\"\n",
    "\n",
    "print(get_word()) "
   ]
  },
  {
   "cell_type": "markdown",
   "metadata": {},
   "source": [
    "- Create a decorator to count how many times a function is called."
   ]
  },
  {
   "cell_type": "code",
   "execution_count": null,
   "metadata": {},
   "outputs": [
    {
     "name": "stdout",
     "output_type": "stream",
     "text": [
      "Function called 1 times\n",
      "Hi!\n",
      "Function called 2 times\n",
      "Hi!\n"
     ]
    }
   ],
   "source": [
    "def decorator(func):\n",
    "    count = 0\n",
    "    def wrapper():\n",
    "        nonlocal count\n",
    "        count += 1\n",
    "        print(f\"Function called {count} times\")\n",
    "        return func()\n",
    "    return wrapper\n",
    "\n",
    "@decorator\n",
    "def say_hi():\n",
    "    print(\"Hi!\")\n",
    "say_hi()\n",
    "say_hi()"
   ]
  },
  {
   "cell_type": "markdown",
   "metadata": {},
   "source": [
    "- Use a decorator to execute a function twice."
   ]
  },
  {
   "cell_type": "code",
   "execution_count": 6,
   "metadata": {},
   "outputs": [
    {
     "name": "stdout",
     "output_type": "stream",
     "text": [
      "Python!\n",
      "Python!\n"
     ]
    }
   ],
   "source": [
    "def decorator(func):\n",
    "    def wrapper():\n",
    "        func()\n",
    "        func()\n",
    "    return wrapper\n",
    "@decorator\n",
    "def message():\n",
    "    print(\"Python!\")\n",
    "message()"
   ]
  },
  {
   "cell_type": "markdown",
   "metadata": {},
   "source": [
    "#### Basic\n",
    "- Write a decorator to calculate the execution time of a function."
   ]
  },
  {
   "cell_type": "code",
   "execution_count": 7,
   "metadata": {},
   "outputs": [
    {
     "name": "stdout",
     "output_type": "stream",
     "text": [
      "Execution time: 1.01247239112854 seconds\n"
     ]
    }
   ],
   "source": [
    "import time\n",
    "def decorator(func):\n",
    "    def wrapper():\n",
    "        start_time = time.time()\n",
    "        result = func()\n",
    "        end_time = time.time()\n",
    "        print(f\"Execution time: {end_time - start_time} seconds\")\n",
    "        return result\n",
    "    return wrapper\n",
    "\n",
    "@decorator\n",
    "def slow_function():\n",
    "    time.sleep(1)\n",
    "\n",
    "slow_function()"
   ]
  },
  {
   "cell_type": "markdown",
   "metadata": {},
   "source": [
    "- Create a decorator to check if the first argument of a function is greater than 10."
   ]
  },
  {
   "cell_type": "code",
   "execution_count": 11,
   "metadata": {},
   "outputs": [
    {
     "name": "stdout",
     "output_type": "stream",
     "text": [
      "Number must be greater than 10\n"
     ]
    }
   ],
   "source": [
    "def decorator(func):\n",
    "    def wrapper(num):\n",
    "        if num <= 10:\n",
    "            print(\"Number must be greater than 10\")\n",
    "        else:\n",
    "            return func(num)\n",
    "    return wrapper\n",
    "\n",
    "@decorator\n",
    "def process_number(num):\n",
    "    print(f\"Processing {num}\")\n",
    "\n",
    "process_number(5)"
   ]
  },
  {
   "cell_type": "markdown",
   "metadata": {},
   "source": [
    "- Write a decorator to log the name of a function whenever it is called."
   ]
  },
  {
   "cell_type": "code",
   "execution_count": 12,
   "metadata": {},
   "outputs": [
    {
     "name": "stdout",
     "output_type": "stream",
     "text": [
      "Calling calculate\n",
      "Calculating...\n"
     ]
    }
   ],
   "source": [
    "def decorator(func):\n",
    "    def wrapper():\n",
    "        print(f\"Calling {func.__name__}\")\n",
    "        return func()\n",
    "    return wrapper\n",
    "\n",
    "@decorator\n",
    "def calculate():\n",
    "    print(\"Calculating...\")\n",
    "\n",
    "calculate()"
   ]
  },
  {
   "cell_type": "markdown",
   "metadata": {},
   "source": [
    "- Create a decorator to ensure a function is only called once."
   ]
  },
  {
   "cell_type": "code",
   "execution_count": 13,
   "metadata": {},
   "outputs": [
    {
     "name": "stdout",
     "output_type": "stream",
     "text": [
      "Initializing...\n",
      "Function already called\n"
     ]
    }
   ],
   "source": [
    "def decorator(func):\n",
    "    called = False\n",
    "    def wrapper():\n",
    "        nonlocal called\n",
    "        if not called:\n",
    "            called = True\n",
    "            return func()\n",
    "        else:\n",
    "            print(\"Function already called\")\n",
    "    return wrapper\n",
    "\n",
    "@decorator\n",
    "def initialize():\n",
    "    print(\"Initializing...\")\n",
    "\n",
    "initialize()\n",
    "initialize()"
   ]
  },
  {
   "cell_type": "markdown",
   "metadata": {},
   "source": [
    "- Use a decorator to reverse the output of a function returning a string."
   ]
  },
  {
   "cell_type": "code",
   "execution_count": 14,
   "metadata": {},
   "outputs": [
    {
     "name": "stdout",
     "output_type": "stream",
     "text": [
      "olleh\n"
     ]
    }
   ],
   "source": [
    "def decorator(func):\n",
    "    def wrapper():\n",
    "        return func()[::-1]\n",
    "    return wrapper\n",
    "\n",
    "@decorator\n",
    "def greet():\n",
    "    return \"hello\"\n",
    "\n",
    "print(greet())"
   ]
  }
 ],
 "metadata": {
  "kernelspec": {
   "display_name": "Python 3",
   "language": "python",
   "name": "python3"
  },
  "language_info": {
   "codemirror_mode": {
    "name": "ipython",
    "version": 3
   },
   "file_extension": ".py",
   "mimetype": "text/x-python",
   "name": "python",
   "nbconvert_exporter": "python",
   "pygments_lexer": "ipython3",
   "version": "3.10.5"
  }
 },
 "nbformat": 4,
 "nbformat_minor": 2
}
